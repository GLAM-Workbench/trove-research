{
 "cells": [
  {
   "cell_type": "markdown",
   "id": "2ed81618",
   "metadata": {},
   "source": [
    "# Trove research repositories\n",
    "\n",
    "Current version: [v0.0.0](https://github.com/GLAM-Workbench/trove-research/releases/tag/v0.0.0)\n",
    "\n",
    "Examples of working with data from research repositories in Trove For more information see the [Trove research repositories](https://glam-workbench.net/trove-research-repositories/) section of the GLAM Workbench.\n",
    "\n",
    "## Notebook topics\n",
    "\n",
    "* [Notebook title](sample_notebook.ipynb) – this notebook does things\n",
    "\n",
    "See the [GLAM Workbench for more details](https://glam-workbench.net/trove-research-repositories/).\n"
   ]
  },
  {
   "cell_type": "markdown",
   "id": "b271f23f",
   "metadata": {},
   "source": [
    "## Cite as\n",
    "\n",
    "See the GLAM Workbench or [Zenodo](https://doi.org/10.5281/zenodo.3521724) for up-to-date citation details.\n",
    "\n",
    "----\n",
    "\n",
    "This repository is part of the [GLAM Workbench](https://glam-workbench.net/).  \n"
   ]
  }
 ],
 "metadata": {
  "jupytext": {
   "cell_metadata_filter": "-all"
  },
  "kernelspec": {
   "display_name": "Python 3 (ipykernel)",
   "language": "python",
   "name": "python3"
  }
 },
 "nbformat": 4,
 "nbformat_minor": 5
}
